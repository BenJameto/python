{
 "cells": [
  {
   "cell_type": "markdown",
   "metadata": {},
   "source": [
    "\n",
    "9. Write a function that returns the number of occurrences of a substring in a string.\n",
    "10. Create a Python script that reads a list of integers from the user and returns the list sorted in ascending order.\n",
    "11. Write a function that takes a dictionary as input and prints the keys and values in the dictionary.\n",
    "12. Write a Python program to create a class that represents a circle, with methods to calculate the area and circumference."
   ]
  },
  {
   "cell_type": "code",
   "execution_count": 133,
   "metadata": {},
   "outputs": [],
   "source": [
    "import textwrap\n",
    "from datetime import datetime"
   ]
  },
  {
   "cell_type": "markdown",
   "metadata": {},
   "source": [
    "### 1. Write a Python program to check if a number is even or odd."
   ]
  },
  {
   "cell_type": "code",
   "execution_count": 59,
   "metadata": {},
   "outputs": [],
   "source": [
    "def pair(numero):\n",
    "    if numero % 2 == 0:\n",
    "        print(\"tu numero es par\")\n",
    "    else: print(\"tu numero es impar\")"
   ]
  },
  {
   "cell_type": "code",
   "execution_count": 60,
   "metadata": {},
   "outputs": [
    {
     "name": "stdout",
     "output_type": "stream",
     "text": [
      "tu numero es impar\n"
     ]
    }
   ],
   "source": [
    "pair(111)"
   ]
  },
  {
   "cell_type": "markdown",
   "metadata": {},
   "source": [
    "### 2. Create a function that accepts a string and returns the number of vowels in the string."
   ]
  },
  {
   "cell_type": "code",
   "execution_count": 44,
   "metadata": {},
   "outputs": [],
   "source": [
    "def vowels (word):\n",
    "    dic = {\"a\": \"a\", \"e\": \"e\", \"i\": \"i\", \"o\": \"o\", \"u\": \"u\"}\n",
    "    word = word.lower()\n",
    "    contador = 0\n",
    "    for c in word:\n",
    "        if c == dic[\"a\"]:\n",
    "            contador += 1\n",
    "        if c == dic[\"e\"]:\n",
    "            contador += 1\n",
    "        if c == dic[\"i\"]:\n",
    "            contador += 1\n",
    "        if c == dic[\"o\"]:\n",
    "            contador += 1\n",
    "        if c == dic[\"u\"]:\n",
    "            contador += 1\n",
    "        \n",
    "    return contador"
   ]
  },
  {
   "cell_type": "code",
   "execution_count": 61,
   "metadata": {},
   "outputs": [
    {
     "data": {
      "text/plain": [
       "7"
      ]
     },
     "execution_count": 61,
     "metadata": {},
     "output_type": "execute_result"
    }
   ],
   "source": [
    "vowels(\"sjie9784jgfnsaiiose\")"
   ]
  },
  {
   "cell_type": "markdown",
   "metadata": {},
   "source": [
    "### 3. Write a Python script that calculates the sum of all the numbers in a list."
   ]
  },
  {
   "cell_type": "code",
   "execution_count": 57,
   "metadata": {},
   "outputs": [],
   "source": [
    "def sum (l):\n",
    "    suma = 0\n",
    "    for n in l:\n",
    "        suma += n\n",
    "    return suma"
   ]
  },
  {
   "cell_type": "code",
   "execution_count": 58,
   "metadata": {},
   "outputs": [
    {
     "data": {
      "text/plain": [
       "10"
      ]
     },
     "execution_count": 58,
     "metadata": {},
     "output_type": "execute_result"
    }
   ],
   "source": [
    "lista = [1,2,3,4]\n",
    "sum(lista)"
   ]
  },
  {
   "cell_type": "markdown",
   "metadata": {},
   "source": [
    "### 4. Create a function that takes a string and returns the string reversed."
   ]
  },
  {
   "cell_type": "code",
   "execution_count": 73,
   "metadata": {},
   "outputs": [],
   "source": [
    "def reversed (word):\n",
    "    reversa = []\n",
    "    for w in word:\n",
    "        reversa.append(w)\n",
    "    reversa.reverse()\n",
    "    w_reversa = \"\".join(reversa)\n",
    "    print(w_reversa)"
   ]
  },
  {
   "cell_type": "code",
   "execution_count": 77,
   "metadata": {},
   "outputs": [
    {
     "name": "stdout",
     "output_type": "stream",
     "text": [
      "onrutas\n"
     ]
    }
   ],
   "source": [
    "reversed(\"saturno\")"
   ]
  },
  {
   "cell_type": "markdown",
   "metadata": {},
   "source": [
    "### 5. Write a Python function that accepts a list of numbers and returns the largest number."
   ]
  },
  {
   "cell_type": "code",
   "execution_count": 115,
   "metadata": {},
   "outputs": [],
   "source": [
    "def largest (l):\n",
    "    masgrande = l[0]\n",
    "    for n in l:\n",
    "        if masgrande < n:\n",
    "            masgrande = n\n",
    "    return masgrande"
   ]
  },
  {
   "cell_type": "code",
   "execution_count": 116,
   "metadata": {},
   "outputs": [
    {
     "data": {
      "text/plain": [
       "4"
      ]
     },
     "execution_count": 116,
     "metadata": {},
     "output_type": "execute_result"
    }
   ],
   "source": [
    "list_num = [1,2,3,4,3,2,1]\n",
    "largest(list_num)"
   ]
  },
  {
   "cell_type": "markdown",
   "metadata": {},
   "source": [
    "### 6. Write a function to determine whether a given year is a leap year or not."
   ]
  },
  {
   "cell_type": "code",
   "execution_count": 144,
   "metadata": {},
   "outputs": [],
   "source": [
    "def is_leap (year):\n",
    "    y = datetime.now()\n",
    "    if year <= y.year and year % 4 == 0:\n",
    "        return \"fue año bisiesto\"  \n",
    "    if year % 4 == 0:\n",
    "        return \"sera un año bisisesto\"\n",
    "    return \"año no bisisesto\""
   ]
  },
  {
   "cell_type": "code",
   "execution_count": 147,
   "metadata": {},
   "outputs": [
    {
     "data": {
      "text/plain": [
       "'año no bisisesto'"
      ]
     },
     "execution_count": 147,
     "metadata": {},
     "output_type": "execute_result"
    }
   ],
   "source": [
    "is_leap(1997)"
   ]
  },
  {
   "cell_type": "markdown",
   "metadata": {},
   "source": [
    "### 7. Create a program that reads a text file and prints the number of words in it.\n"
   ]
  },
  {
   "cell_type": "code",
   "execution_count": 152,
   "metadata": {},
   "outputs": [],
   "source": [
    "def number_words (file):\n",
    "    with open(file, \"r\", encoding=\"utf-8\") as archivo:\n",
    "        contenido = archivo.read()\n",
    "        palabras = contenido.split()\n",
    "        return len(palabras)"
   ]
  },
  {
   "cell_type": "code",
   "execution_count": 153,
   "metadata": {},
   "outputs": [
    {
     "data": {
      "text/plain": [
       "600"
      ]
     },
     "execution_count": 153,
     "metadata": {},
     "output_type": "execute_result"
    }
   ],
   "source": [
    "archivo = \"lorem.txt\"\n",
    "number_words(archivo)"
   ]
  },
  {
   "cell_type": "markdown",
   "metadata": {},
   "source": [
    "### 8. Write a Python program to find the factorial of a number using recursion."
   ]
  },
  {
   "cell_type": "code",
   "execution_count": 155,
   "metadata": {},
   "outputs": [],
   "source": [
    "def fact (n):\n",
    "    if n <= 1:\n",
    "        return 1\n",
    "    return n * fact(n-1)"
   ]
  },
  {
   "cell_type": "code",
   "execution_count": 163,
   "metadata": {},
   "outputs": [
    {
     "data": {
      "text/plain": [
       "479001600"
      ]
     },
     "execution_count": 163,
     "metadata": {},
     "output_type": "execute_result"
    }
   ],
   "source": [
    "fact(12)"
   ]
  },
  {
   "cell_type": "markdown",
   "metadata": {},
   "source": [
    "### 9. Write a function that returns the number of occurrences of a substring in a string."
   ]
  },
  {
   "cell_type": "code",
   "execution_count": null,
   "metadata": {},
   "outputs": [],
   "source": [
    "def ocurrences(s, sub_s):\n",
    "    s = s.lower()\n",
    "    sub_s = sub_s.lower()\n",
    "    print(s)\n",
    "    print(sub_s)"
   ]
  },
  {
   "cell_type": "code",
   "execution_count": null,
   "metadata": {},
   "outputs": [],
   "source": []
  }
 ],
 "metadata": {
  "kernelspec": {
   "display_name": "Python 3",
   "language": "python",
   "name": "python3"
  },
  "language_info": {
   "codemirror_mode": {
    "name": "ipython",
    "version": 3
   },
   "file_extension": ".py",
   "mimetype": "text/x-python",
   "name": "python",
   "nbconvert_exporter": "python",
   "pygments_lexer": "ipython3",
   "version": "3.11.2"
  }
 },
 "nbformat": 4,
 "nbformat_minor": 2
}
